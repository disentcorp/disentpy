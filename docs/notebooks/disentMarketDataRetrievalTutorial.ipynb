{
 "cells": [
  {
   "cell_type": "code",
   "execution_count": 1,
   "id": "21a1ae65",
   "metadata": {},
   "outputs": [
    {
     "name": "stdout",
     "output_type": "stream",
     "text": [
      "Defaulting to user installation because normal site-packages is not writeable\n",
      "Requirement already satisfied: disentpy in /home/anthony/.local/lib/python3.8/site-packages (0.0.18)\n",
      "Requirement already satisfied: requests in /home/anthony/.local/lib/python3.8/site-packages (from disentpy) (2.28.0)\n",
      "Requirement already satisfied: certifi>=2017.4.17 in /home/anthony/.local/lib/python3.8/site-packages (from requests->disentpy) (2022.5.18.1)\n",
      "Requirement already satisfied: charset-normalizer~=2.0.0 in /home/anthony/.local/lib/python3.8/site-packages (from requests->disentpy) (2.0.12)\n",
      "Requirement already satisfied: idna<4,>=2.5 in /home/anthony/.local/lib/python3.8/site-packages (from requests->disentpy) (3.3)\n",
      "Requirement already satisfied: urllib3<1.27,>=1.21.1 in /home/anthony/.local/lib/python3.8/site-packages (from requests->disentpy) (1.26.9)\n"
     ]
    }
   ],
   "source": [
    "!pip install disentpy"
   ]
  },
  {
   "cell_type": "code",
   "execution_count": 2,
   "id": "e8da23fa",
   "metadata": {},
   "outputs": [],
   "source": [
    "import disent"
   ]
  },
  {
   "cell_type": "code",
   "execution_count": null,
   "id": "6fbb4a91",
   "metadata": {},
   "outputs": [],
   "source": [
    "model=\"DEMO_EQD_VOLS\"\n",
    "ticker = 'AAPL'\n",
    "model_args = {'ticker':ticker}\n"
   ]
  },
  {
   "cell_type": "code",
   "execution_count": 4,
   "id": "d0b053fd",
   "metadata": {},
   "outputs": [
    {
     "name": "stdout",
     "output_type": "stream",
     "text": [
      "Secrets file not found. See docs.\n",
      "Enter your API-Key to continue: adsfsaf\n",
      "Downloaded........ 0.0 KiB done.                \n"
     ]
    },
    {
     "ename": "KeyError",
     "evalue": "'Exception'",
     "output_type": "error",
     "traceback": [
      "\u001b[0;31m---------------------------------------------------------------------------\u001b[0m",
      "\u001b[0;31mKeyError\u001b[0m                                  Traceback (most recent call last)",
      "Input \u001b[0;32mIn [4]\u001b[0m, in \u001b[0;36m<module>\u001b[0;34m\u001b[0m\n\u001b[0;32m----> 1\u001b[0m df \u001b[38;5;241m=\u001b[39m \u001b[43mdisent\u001b[49m\u001b[38;5;241;43m.\u001b[39;49m\u001b[43mhub\u001b[49m\u001b[43m(\u001b[49m\u001b[43mmodel\u001b[49m\u001b[43m,\u001b[49m\u001b[43mmodel_args\u001b[49m\u001b[43m)\u001b[49m\n\u001b[1;32m      2\u001b[0m df\n",
      "File \u001b[0;32m~/.local/lib/python3.8/site-packages/disent/disent.py:94\u001b[0m, in \u001b[0;36mhub\u001b[0;34m(model, kwargs)\u001b[0m\n\u001b[1;32m     92\u001b[0m kwargs[\u001b[38;5;124m'\u001b[39m\u001b[38;5;124msource\u001b[39m\u001b[38;5;124m'\u001b[39m]\u001b[38;5;241m=\u001b[39mmodel\n\u001b[1;32m     93\u001b[0m model_endpoint\u001b[38;5;241m=\u001b[39m\u001b[38;5;124m'\u001b[39m\u001b[38;5;124mapi/cache\u001b[39m\u001b[38;5;124m'\u001b[39m\n\u001b[0;32m---> 94\u001b[0m result \u001b[38;5;241m=\u001b[39m  \u001b[43mdisent_get\u001b[49m\u001b[43m(\u001b[49m\u001b[43mmodel_endpoint\u001b[49m\u001b[43m,\u001b[49m\u001b[43mkwargs\u001b[49m\u001b[43m)\u001b[49m\n\u001b[1;32m     95\u001b[0m \u001b[38;5;28;01mreturn\u001b[39;00m result\n",
      "File \u001b[0;32m~/.local/lib/python3.8/site-packages/disent/disent.py:48\u001b[0m, in \u001b[0;36mdisent_get\u001b[0;34m(endpoint, uri_dict)\u001b[0m\n\u001b[1;32m     46\u001b[0m result \u001b[38;5;241m=\u001b[39m d\u001b[38;5;241m.\u001b[39mget(\u001b[38;5;124m'\u001b[39m\u001b[38;5;124mresult\u001b[39m\u001b[38;5;124m'\u001b[39m,\u001b[38;5;28;01mNone\u001b[39;00m)\n\u001b[1;32m     47\u001b[0m \u001b[38;5;28;01mif\u001b[39;00m result \u001b[38;5;129;01mis\u001b[39;00m \u001b[38;5;28;01mNone\u001b[39;00m:\n\u001b[0;32m---> 48\u001b[0m \t\u001b[38;5;28;01mraise\u001b[39;00m \u001b[38;5;167;01mException\u001b[39;00m(\u001b[38;5;124m'\u001b[39m\u001b[38;5;124mServer error\u001b[39m\u001b[38;5;124m'\u001b[39m,\u001b[43md\u001b[49m\u001b[43m[\u001b[49m\u001b[38;5;124;43m'\u001b[39;49m\u001b[38;5;124;43mException\u001b[39;49m\u001b[38;5;124;43m'\u001b[39;49m\u001b[43m]\u001b[49m)\n\u001b[1;32m     50\u001b[0m df \u001b[38;5;241m=\u001b[39m pd\u001b[38;5;241m.\u001b[39mDataFrame(result)\n\u001b[1;32m     51\u001b[0m \u001b[38;5;28;01mreturn\u001b[39;00m df\n",
      "\u001b[0;31mKeyError\u001b[0m: 'Exception'"
     ]
    }
   ],
   "source": [
    "df = disent.hub(model,model_args)\n",
    "df"
   ]
  }
 ],
 "metadata": {
  "kernelspec": {
   "display_name": "Python 3",
   "language": "python",
   "name": "python3"
  },
  "language_info": {
   "codemirror_mode": {
    "name": "ipython",
    "version": 3
   },
   "file_extension": ".py",
   "mimetype": "text/x-python",
   "name": "python",
   "nbconvert_exporter": "python",
   "pygments_lexer": "ipython3",
   "version": "3.8.5"
  }
 },
 "nbformat": 4,
 "nbformat_minor": 5
}
